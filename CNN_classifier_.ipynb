{
  "nbformat": 4,
  "nbformat_minor": 0,
  "metadata": {
    "colab": {
      "name": "CNN_classifier_.ipynb",
      "provenance": [],
      "authorship_tag": "ABX9TyMOmJFAcx78vhliyIrc+cPw",
      "include_colab_link": true
    },
    "kernelspec": {
      "name": "python3",
      "display_name": "Python 3"
    },
    "accelerator": "GPU"
  },
  "cells": [
    {
      "cell_type": "markdown",
      "metadata": {
        "id": "view-in-github",
        "colab_type": "text"
      },
      "source": [
        "<a href=\"https://colab.research.google.com/github/JhonathanOrtiz/DeepCV-Pytorch/blob/master/CNN_classifier_.ipynb\" target=\"_parent\"><img src=\"https://colab.research.google.com/assets/colab-badge.svg\" alt=\"Open In Colab\"/></a>"
      ]
    },
    {
      "cell_type": "markdown",
      "metadata": {
        "id": "F8tEk2DvbHDr",
        "colab_type": "text"
      },
      "source": [
        "\n",
        "\n",
        "> # What really is an image.\n",
        "\n",
        "In Deep Learnig when we work with images we use Convolutional Neural Networks, Since that Architecture are specialist in this task. Why? First We need to know How a computer read an image.\n",
        "\n",
        "\n",
        "\n",
        "![texto alternativo](http://iesalmadraba.org/dibujo/files/2018/01/9781588906380_c002_f001-300x232.jpg)\n",
        "\n",
        "\n",
        "For a PC an image is matrix where each value is a pixel intensity, for example whether the value is 0 the pixel white so, while de value increase the color it's color darkness until black (255). We can deploy those images with the appropiate pixel value-distributions.\n",
        "\n",
        "![Texto alternativo](https://www.blogdelfotografo.com/wp-content/uploads/2017/10/DSC8362.jpg)\n",
        "\n",
        "\n",
        "\n",
        "### Now, what happen when the image has many colors?\n",
        "\n",
        "We can't use just a matrix if the image has many color because as you can see we conly respresent a gray-scale. *SOLUTION* We can use the three light color, RED GREEN AND BLUE from here RGB image format, now if we can three color we can build three matrix (One by color) when the same idea about pixel intensity, but for each color, so we stack the matrix and voilà, COLOR IMAGE.\n",
        "\n",
        "\n",
        "![Texto](https://www.researchgate.net/profile/Jane_Courtney2/publication/267210444/figure/fig6/AS:295732335661069@1447519491773/A-three-dimensional-RGB-matrix-Each-layer-of-the-matrix-is-a-two-dimensional-matrix.png)\n",
        "\n",
        "\n",
        "\n",
        "With that approach an computer can see the wolrd, and with this intuition we can start to understand how to a computer can classify images, or detect your face on your smartfphone camera.\n"
      ]
    },
    {
      "cell_type": "markdown",
      "metadata": {
        "id": "bs1tPLJd_A0X",
        "colab_type": "text"
      },
      "source": [
        "\n",
        "\n",
        "> Convolutional Neural Network\n",
        "\n",
        "Nowdays an image can have until 1000px x 800px for a feedforward neural network that is 8e5 input feature and if we have a RGB image 24e5 input features. It's too much. Convolutional neural network. How it works?\n",
        "\n",
        "![Texto alternativo](https://www.diegocalvo.es/wp-content/uploads/2017/07/convoluci%C3%B3n.png)\n",
        "\n",
        "Given a gray-scale image like the image above, we build a filter (small matrix) and we slice over image, those filter can extract important features for the images, this out weights, the parameters that our network should learn. \n",
        "\n",
        "If you can know more about neural net. [Click here](https://arxiv.org/abs/1512.07108)\n",
        "\n",
        "\n",
        "\n"
      ]
    },
    {
      "cell_type": "code",
      "metadata": {
        "id": "J-Afc2rlA-Ws",
        "colab_type": "code",
        "outputId": "5bbbae0a-e503-49f1-d700-f85ede3efcd9",
        "colab": {
          "base_uri": "https://localhost:8080/",
          "height": 70
        }
      },
      "source": [
        "#import the modules\n",
        "from torchvision.datasets import ImageFolder\n",
        "from torchvision.transforms import ToTensor, Normalize, Resize, Compose\n",
        "from torch.utils.data import random_split, DataLoader\n",
        "from torchvision.datasets import CIFAR10\n",
        "import matplotlib.pyplot as plt\n",
        "from torch import nn\n",
        "\n",
        "#Download the train dataset from torch\n",
        "train_ds = CIFAR10('data', transform=Compose([Resize((32,32)), \n",
        "                                                        ToTensor(), \n",
        "                                                        Normalize(mean=[0.485, 0.456, 0.406], std=[0.229, 0.224, 0.225])]),\n",
        "                                                        download=True)\n",
        "\n",
        "val_ds = CIFAR10('data', transform=Compose([Resize((32,32)), \n",
        "                                                        ToTensor(), \n",
        "                                                        Normalize(mean=[0.485, 0.456, 0.406], std=[0.229, 0.224, 0.225])]),\n",
        "                                                        download=True, train=False)\n",
        "\n",
        "test_len = int(len(val_ds)*0.1)\n",
        "val_len = int(len(val_ds) - test_len)\n",
        "val_ds, test_ds =  random_split(val_ds, [val_len, test_len])\n",
        "\n",
        "print('Train dataset: {}, Validation dataset: {}, test dataset. {}' .format(len(train_ds), len(val_ds), len(test_ds)))"
      ],
      "execution_count": 19,
      "outputs": [
        {
          "output_type": "stream",
          "text": [
            "Files already downloaded and verified\n",
            "Files already downloaded and verified\n",
            "Train dataset: 50000, Validation dataset: 9000, test dataset. 1000\n"
          ],
          "name": "stdout"
        }
      ]
    },
    {
      "cell_type": "markdown",
      "metadata": {
        "id": "3Vqy5oaOHDmu",
        "colab_type": "text"
      },
      "source": [
        "\n",
        "\n",
        "># DATA\n",
        "\n",
        "To work inn Artificial Intelligence mean work with data, the model performace depends of your data. *Bad data bad model* we instace three dataset type why? With the train data we teach to our model, for example what is a dog, what's an apple.. with de validation data with you evaluate the how good your model works, and the test set your model is tested. Why another set for test our model? Because your finetuning your model and likely you're overfit your model with your valdation dataset. to know more about it [click here](https://www.fast.ai/2017/11/13/validation-sets/)"
      ]
    },
    {
      "cell_type": "code",
      "metadata": {
        "id": "sZIpOU7bQZ7v",
        "colab_type": "code",
        "colab": {}
      },
      "source": [
        "BATCH_SIZE = 16\n",
        "\n",
        "train_loader = DataLoader(train_ds, batch_size=BATCH_SIZE, shuffle=True, num_workers=4, pin_memory=True)\n",
        "val_loader = DataLoader(val_ds, batch_size=BATCH_SIZE, num_workers=4, pin_memory=True)\n",
        "test_loader = DataLoader(test_ds, batch_size=BATCH_SIZE, num_workers=4, pin_memory=True)"
      ],
      "execution_count": 0,
      "outputs": []
    },
    {
      "cell_type": "code",
      "metadata": {
        "id": "jfxfqdf17RNP",
        "colab_type": "code",
        "colab": {}
      },
      "source": [
        "#Compute the model accuracy\n",
        "def accuracy(outputs, labels):\n",
        "    _, preds = torch.max(outputs, dim=1)\n",
        "    return torch.tensor(torch.sum(preds == labels).item() / len(preds))\n",
        "    \n",
        "#Helpul for training display metrics\n",
        "class ImageClassificationBase(nn.Module):\n",
        "    def training_step(self, batch):\n",
        "        images, labels = batch \n",
        "        out = self(images)                  # Generate predictions\n",
        "        loss = F.cross_entropy(out, labels) # Calculate loss\n",
        "        return loss\n",
        "    \n",
        "    def validation_step(self, batch):\n",
        "        images, labels = batch \n",
        "        out = self(images)                    # Generate predictions\n",
        "        loss = F.cross_entropy(out, labels)   # Calculate loss\n",
        "        acc = accuracy(out, labels)           # Calculate accuracy\n",
        "        return {'val_loss': loss.detach(), 'val_acc': acc}\n",
        "        \n",
        "    def validation_epoch_end(self, outputs):\n",
        "        batch_losses = [x['val_loss'] for x in outputs]\n",
        "        epoch_loss = torch.stack(batch_losses).mean()   # Combine losses\n",
        "        batch_accs = [x['val_acc'] for x in outputs]\n",
        "        epoch_acc = torch.stack(batch_accs).mean()      # Combine accuracies\n",
        "        return {'val_loss': epoch_loss.item(), 'val_acc': epoch_acc.item()}\n",
        "    \n",
        "    def epoch_end(self, epoch, result):\n",
        "        print(\"Epoch [{}], val_loss: {:.4f}, val_acc: {:.4f}\".format(epoch, result['val_loss'], result['val_acc']))"
      ],
      "execution_count": 0,
      "outputs": []
    },
    {
      "cell_type": "markdown",
      "metadata": {
        "id": "ywvs51POKyNL",
        "colab_type": "text"
      },
      "source": [
        "\n",
        "\n",
        "> MODEL\n",
        "\n",
        "Here we define the model that will make prediction on our data\n",
        "\n",
        "See this guide [An efficient way to build your CNN](https://towardsdatascience.com/a-guide-to-an-efficient-way-to-build-neural-network-architectures-part-ii-hyper-parameter-42efca01e5d7)\n",
        "\n",
        "In the follow cell we define de newtork topology the numbers are the output features. **M** Represent An maxPooling layer.\n",
        "\n",
        "The core idea, In Pytorch to define a convolutional layers we need the input feature and output feature, Now in the first layers we know that the image has three featrure maps (RGB) and we set the output size in 64, our image now has 64 matrix, MaxPoling layers make a downsampling factor 2.\n",
        "\n",
        "![Text](https://www.researchgate.net/profile/Fernando_De_la_Rosa/publication/308783857/figure/fig7/AS:668316066660362@1536350375330/Red-neuronal-convolucional-4.jpg)\n",
        "\n",
        "With CNN with extract the features so, we will need feed a feedforward neural network to clasify our image."
      ]
    },
    {
      "cell_type": "code",
      "metadata": {
        "id": "JCB0HCDBplWZ",
        "colab_type": "code",
        "colab": {}
      },
      "source": [
        "topology = [64, 'M', 128, 'M', 256, 256, 'M', 512, 'M', 512, 'M']"
      ],
      "execution_count": 0,
      "outputs": []
    },
    {
      "cell_type": "code",
      "metadata": {
        "id": "DuFAgi_6TIFn",
        "colab_type": "code",
        "colab": {}
      },
      "source": [
        "import torch.nn.functional as F \n",
        "\n",
        "class Net(ImageClassificationBase):\n",
        "\n",
        "  def __init__(self,input_channel, output_size):\n",
        "    super(Net, self).__init__()\n",
        "    self.input_channel =  input_channel\n",
        "    self.output_size = output_size\n",
        "    self.convlayer = self.create_conv_layer(topology)\n",
        "    self.fc = nn.Sequential(\n",
        "        nn.Linear(512*1*1, 128),\n",
        "        nn.ReLU(),\n",
        "        nn.Linear(128, 256),\n",
        "        nn.ReLU(),\n",
        "        nn.Dropout(0.3),\n",
        "        nn.Linear(256, 512),\n",
        "        nn.ReLU(),\n",
        "        nn.Dropout(0.3),\n",
        "        nn.Linear(512, 1024),\n",
        "        nn.ReLU(),\n",
        "        nn.Dropout(0.3),\n",
        "        nn.Linear(1024, output_size)\n",
        "    )\n",
        "  \n",
        "  #Define the convolutional model\n",
        "  def create_conv_layer(self, architecture):\n",
        "    layers = []\n",
        "    input_channel = self.input_channel\n",
        "\n",
        "    for x in architecture: #For each value in our topology\n",
        "\n",
        "      if type(x) == int: #If is a numbre build convolutional layer\n",
        "        output_channel = x\n",
        "        layers += [nn.Conv2d(input_channel, x, (3,3), 1, 1),\n",
        "                   nn.BatchNorm2d(x),\n",
        "                   nn.LeakyReLU()]\n",
        "        \n",
        "        input_channel = x \n",
        "\n",
        "      elif x == 'M': #Build Maxpooling layers\n",
        "        layers += [nn.MaxPool2d((2,2), (2,2))]     \n",
        "\n",
        "    return nn.Sequential(*layers)\n",
        "    \n",
        "#Forward pass\n",
        "  def forward(self, x):\n",
        "    x = self.convlayer(x)\n",
        "    x = x.reshape(x.shape[0], -1)\n",
        "    x = self.fc(x)\n",
        "    return x"
      ],
      "execution_count": 0,
      "outputs": []
    },
    {
      "cell_type": "markdown",
      "metadata": {
        "id": "OmKJAnAfOUQo",
        "colab_type": "text"
      },
      "source": [
        "\n",
        "\n",
        "> # Vanishing Gradient\n",
        "\n",
        "While the image feed throughout the convolutional neural network, it's compressed so, if there are important imformation on earlier layers we lost this information therefore when we compute the gradient in earlier layers will be small to know more [click kere](https://towardsdatascience.com/the-vanishing-gradient-problem-69bf08b15484)\n",
        "\n",
        "Residual block avoid vanishing, for each layer we add the output and the input.\n",
        "\n",
        "\n",
        "![Text](https://neurohive.io/wp-content/uploads/2019/01/resnet-e1548261477164.png)"
      ]
    },
    {
      "cell_type": "code",
      "metadata": {
        "id": "0bnynav-2XSx",
        "colab_type": "code",
        "colab": {}
      },
      "source": [
        "import torch\n",
        "\n",
        "#Create ResidualBlock\n",
        "class block(ImageClassificationBase):\n",
        "    def __init__(\n",
        "        self, in_channels, intermediate_channels, identity_downsample=None, stride=1):\n",
        "      \n",
        "        super(block, self).__init__()\n",
        "        self.expansion = 4\n",
        "        self.conv1 = nn.Conv2d(in_channels, intermediate_channels, kernel_size=1, stride=1, padding=0)\n",
        "        \n",
        "        self.bn1 = nn.BatchNorm2d(intermediate_channels)\n",
        "        self.conv2 = nn.Conv2d(\n",
        "            intermediate_channels,\n",
        "            intermediate_channels,\n",
        "            kernel_size=3,\n",
        "            stride=stride,\n",
        "            padding=1,\n",
        "        )\n",
        "        self.bn2 = nn.BatchNorm2d(intermediate_channels)\n",
        "        self.conv3 = nn.Conv2d(\n",
        "            intermediate_channels,\n",
        "            intermediate_channels * self.expansion,\n",
        "            kernel_size=1,\n",
        "            stride=1,\n",
        "            padding=0,\n",
        "        )\n",
        "        self.bn3 = nn.BatchNorm2d(intermediate_channels * self.expansion)\n",
        "        self.relu = nn.ReLU()\n",
        "        self.identity_downsample = identity_downsample\n",
        "        self.stride = stride\n",
        "\n",
        "    def forward(self, x):\n",
        "        identity = x.clone()\n",
        "\n",
        "        x = self.conv1(x)\n",
        "        x = self.bn1(x)\n",
        "        x = self.relu(x)\n",
        "        x = self.conv2(x)\n",
        "        x = self.bn2(x)\n",
        "        x = self.relu(x)\n",
        "        x = self.conv3(x)\n",
        "        x = self.bn3(x)\n",
        "\n",
        "        if self.identity_downsample is not None:\n",
        "            identity = self.identity_downsample(identity)\n",
        "\n",
        "        x += identity\n",
        "        x = self.relu(x)\n",
        "        return x"
      ],
      "execution_count": 0,
      "outputs": []
    },
    {
      "cell_type": "code",
      "metadata": {
        "id": "THl20rRnuxDt",
        "colab_type": "code",
        "colab": {}
      },
      "source": [
        "class ResNet(ImageClassificationBase):\n",
        "    def __init__(self, block, layers, image_channels, num_classes):\n",
        "        super(ResNet, self).__init__()\n",
        "        self.in_channels = 64\n",
        "        self.conv1 = nn.Conv2d(image_channels, 64, kernel_size=7, stride=2, padding=3)\n",
        "        self.bn1 = nn.BatchNorm2d(64)\n",
        "        self.relu = nn.ReLU()\n",
        "        self.maxpool = nn.MaxPool2d(kernel_size=3, stride=2, padding=1)\n",
        "\n",
        "        # Essentially the entire ResNet architecture are in these 4 lines below\n",
        "        self.layer1 = self._make_layer(\n",
        "            block, layers[0], intermediate_channels=64, stride=1\n",
        "        )\n",
        "        self.layer2 = self._make_layer(\n",
        "            block, layers[1], intermediate_channels=128, stride=2\n",
        "        )\n",
        "        self.layer3 = self._make_layer(\n",
        "            block, layers[2], intermediate_channels=256, stride=2\n",
        "        )\n",
        "        self.layer4 = self._make_layer(\n",
        "            block, layers[3], intermediate_channels=512, stride=2\n",
        "        )\n",
        "\n",
        "        self.avgpool = nn.AdaptiveAvgPool2d((1, 1))\n",
        "        self.fc = nn.Linear(512 * 4, num_classes)\n",
        "\n",
        "    def forward(self, x):\n",
        "        x = self.conv1(x)\n",
        "        x = self.bn1(x)\n",
        "        x = self.relu(x)\n",
        "        x = self.maxpool(x)\n",
        "        x = self.layer1(x)\n",
        "        x = self.layer2(x)\n",
        "        x = self.layer3(x)\n",
        "        x = self.layer4(x)\n",
        "\n",
        "        x = self.avgpool(x)\n",
        "        x = x.reshape(x.shape[0], -1)\n",
        "        x = self.fc(x)\n",
        "\n",
        "        return x\n",
        "\n",
        "    def _make_layer(self, block, num_residual_blocks, intermediate_channels, stride):\n",
        "        identity_downsample = None\n",
        "        layers = []\n",
        "\n",
        "        # Either if we half the input space for ex, 56x56 -> 28x28 (stride=2), or channels changes\n",
        "        # we need to adapt the Identity (skip connection) so it will be able to be added\n",
        "        # to the layer that's ahead\n",
        "        if stride != 1 or self.in_channels != intermediate_channels * 4:\n",
        "            identity_downsample = nn.Sequential(\n",
        "                nn.Conv2d(\n",
        "                    self.in_channels,\n",
        "                    intermediate_channels * 4,\n",
        "                    kernel_size=1,\n",
        "                    stride=stride,\n",
        "                ),\n",
        "                nn.BatchNorm2d(intermediate_channels * 4),\n",
        "            )\n",
        "\n",
        "        layers.append(\n",
        "            block(self.in_channels, intermediate_channels, identity_downsample, stride)\n",
        "        )\n",
        "\n",
        "        # The expansion size is always 4 for ResNet 50,101,152\n",
        "        self.in_channels = intermediate_channels * 4\n",
        "\n",
        "        # For example for first resnet layer: 256 will be mapped to 64 as intermediate layer,\n",
        "        # then finally back to 256. Hence no identity downsample is needed, since stride = 1,\n",
        "        # and also same amount of channels.\n",
        "        for i in range(num_residual_blocks - 1):\n",
        "            layers.append(block(self.in_channels, intermediate_channels))\n",
        "\n",
        "        return nn.Sequential(*layers)"
      ],
      "execution_count": 0,
      "outputs": []
    },
    {
      "cell_type": "code",
      "metadata": {
        "id": "fim77ZOYZXAN",
        "colab_type": "code",
        "outputId": "21aa5c09-8b58-42eb-a4b2-26d4281f109b",
        "colab": {
          "base_uri": "https://localhost:8080/",
          "height": 52
        }
      },
      "source": [
        "import torch\n",
        "Model = Net(3, 10)\n",
        "x = torch.rand(1,3,32,32)\n",
        "Model.forward(x)"
      ],
      "execution_count": 26,
      "outputs": [
        {
          "output_type": "execute_result",
          "data": {
            "text/plain": [
              "tensor([[-0.0651,  0.0698, -0.0613, -0.0530, -0.0282, -0.0171,  0.1181, -0.0428,\n",
              "         -0.0337,  0.0472]], grad_fn=<AddmmBackward>)"
            ]
          },
          "metadata": {
            "tags": []
          },
          "execution_count": 26
        }
      ]
    },
    {
      "cell_type": "code",
      "metadata": {
        "id": "izOPzK9NDk3M",
        "colab_type": "code",
        "colab": {}
      },
      "source": [
        "#Get the divice that do you use GPU or CPU \n",
        "def get_default_device():\n",
        "    \"\"\"Pick GPU if available, else CPU\"\"\"\n",
        "    if torch.cuda.is_available():\n",
        "        return torch.device('cuda')\n",
        "    else:\n",
        "        return torch.device('cpu')"
      ],
      "execution_count": 0,
      "outputs": []
    },
    {
      "cell_type": "code",
      "metadata": {
        "id": "IVk1i5W2prA4",
        "colab_type": "code",
        "colab": {}
      },
      "source": [
        "#Move the dataset to the GPU\n",
        "def to_device(data, device):\n",
        "    \"\"\"Move tensor(s) to chosen device\"\"\"\n",
        "    if isinstance(data, (list,tuple)):\n",
        "        return [to_device(x, device) for x in data]\n",
        "    return data.to(device, non_blocking=True)\n",
        "\n",
        "class DeviceDataLoader():\n",
        "    \"\"\"Wrap a dataloader to move data to a device\"\"\"\n",
        "    def __init__(self, dl, device):\n",
        "        self.dl = dl\n",
        "        self.device = device\n",
        "        \n",
        "    def __iter__(self):\n",
        "        \"\"\"Yield a batch of data after moving it to device\"\"\"\n",
        "        for b in self.dl: \n",
        "            yield to_device(b, self.device)\n",
        "\n",
        "    def __len__(self):\n",
        "        \"\"\"Number of batches\"\"\"\n",
        "        return len(self.dl)"
      ],
      "execution_count": 0,
      "outputs": []
    },
    {
      "cell_type": "code",
      "metadata": {
        "id": "_p2-pxUZF7FG",
        "colab_type": "code",
        "outputId": "affd39e2-88a7-4a2a-a2ce-22cc959d81d3",
        "colab": {
          "base_uri": "https://localhost:8080/",
          "height": 34
        }
      },
      "source": [
        "device = get_default_device()\n",
        "device"
      ],
      "execution_count": 29,
      "outputs": [
        {
          "output_type": "execute_result",
          "data": {
            "text/plain": [
              "device(type='cuda')"
            ]
          },
          "metadata": {
            "tags": []
          },
          "execution_count": 29
        }
      ]
    },
    {
      "cell_type": "code",
      "metadata": {
        "id": "u3Cf_bCJGACz",
        "colab_type": "code",
        "colab": {}
      },
      "source": [
        "train_loader = DeviceDataLoader(train_loader, device)\n",
        "val_loader = DeviceDataLoader(val_loader, device)\n",
        "test_loader = DeviceDataLoader(test_loader, device)"
      ],
      "execution_count": 0,
      "outputs": []
    },
    {
      "cell_type": "markdown",
      "metadata": {
        "id": "LnATvP9lfahr",
        "colab_type": "text"
      },
      "source": [
        "\n",
        "\n",
        "> # Training a model\n",
        "\n",
        "Per epoch:\n",
        "\n",
        "* Forward Pass: Make prediction over the train data.\n",
        "* Compute Loss: Loss tell us how wrong is our model predictions, the idea is minimize it.\n",
        "\n",
        "* Compute gradients: Is a derivatives set, and these derivative how fast change de loss function with respect to the trainable parameters Kernel, and Bias)\n",
        "\n",
        "* Optimize: Update the parameters. *W - lr(gadients)*\n",
        "\n",
        "    ![text](https://se.mathworks.com/help/deeplearning/gs/gettingstarted_nnblk.gif)"
      ]
    },
    {
      "cell_type": "code",
      "metadata": {
        "id": "Yl1Qz_StFjC5",
        "colab_type": "code",
        "colab": {}
      },
      "source": [
        "#Evaluate the model\n",
        "def evaluate(model, val_loader):\n",
        "    outputs = [model.validation_step(batch) for batch in val_loader]\n",
        "    return model.validation_epoch_end(outputs)\n",
        "\n",
        "#Train model\n",
        "def fit(epochs, lr, model, train_loader, val_loader, opt_func=torch.optim.Adam):\n",
        "    history = []\n",
        "    optimizer = opt_func(model.parameters(), lr)\n",
        "    for epoch in range(epochs):\n",
        "        # Training Phase \n",
        "        for batch in train_loader:\n",
        "            loss = model.training_step(batch)\n",
        "            loss.backward()\n",
        "            optimizer.step()\n",
        "            optimizer.zero_grad()\n",
        "        # Validation phase\n",
        "        result = evaluate(model, val_loader)\n",
        "        model.epoch_end(epoch, result)\n",
        "        history.append(result)\n",
        "    return history"
      ],
      "execution_count": 0,
      "outputs": []
    },
    {
      "cell_type": "code",
      "metadata": {
        "id": "zIZxUAHlu0Y2",
        "colab_type": "code",
        "outputId": "49129ba2-72b5-491a-c927-d1832d1e2620",
        "colab": {
          "base_uri": "https://localhost:8080/",
          "height": 34
        }
      },
      "source": [
        "def ResNet50(img_channel=3, num_classes=10):\n",
        "    return ResNet(block, [3, 4, 6, 3], img_channel, num_classes)\n",
        "\n",
        "\n",
        "def ResNet101(img_channel=3, num_classes=10):\n",
        "    return ResNet(block, [3, 4, 23, 3], img_channel, num_classes)\n",
        "\n",
        "\n",
        "def ResNet152(img_channel=3, num_classes=10):\n",
        "    return ResNet(block, [3, 8, 36, 3], img_channel, num_classes)\n",
        "\n",
        "\n",
        "def test():\n",
        "    net = ResNet101(img_channel=3, num_classes=1000)\n",
        "    y = net(torch.randn(4, 3, 224, 224)).to(\"cuda\")\n",
        "    print(y.size())\n",
        "\n",
        "\n",
        "test()"
      ],
      "execution_count": 32,
      "outputs": [
        {
          "output_type": "stream",
          "text": [
            "torch.Size([4, 1000])\n"
          ],
          "name": "stdout"
        }
      ]
    },
    {
      "cell_type": "code",
      "metadata": {
        "id": "k6hgHaU-F1dd",
        "colab_type": "code",
        "outputId": "0dcca8ea-8589-4621-df1d-38610f8ff566",
        "colab": {
          "base_uri": "https://localhost:8080/",
          "height": 34
        }
      },
      "source": [
        "model = to_device(Net(3,10), device)\n",
        "hist = evaluate(model, val_loader)\n",
        "hist"
      ],
      "execution_count": 33,
      "outputs": [
        {
          "output_type": "execute_result",
          "data": {
            "text/plain": [
              "{'val_acc': 0.09757992625236511, 'val_loss': 2.302562713623047}"
            ]
          },
          "metadata": {
            "tags": []
          },
          "execution_count": 33
        }
      ]
    },
    {
      "cell_type": "code",
      "metadata": {
        "id": "bUFLSLnxvCLV",
        "colab_type": "code",
        "outputId": "5fd7a798-49f4-4c5d-d8ea-9702279fa175",
        "colab": {
          "base_uri": "https://localhost:8080/",
          "height": 34
        }
      },
      "source": [
        "resnet = to_device(ResNet50(3, 10), device)\n",
        "history = evaluate(resnet, val_loader)\n",
        "history"
      ],
      "execution_count": 34,
      "outputs": [
        {
          "output_type": "execute_result",
          "data": {
            "text/plain": [
              "{'val_acc': 0.09558170288801193, 'val_loss': 2.671478748321533}"
            ]
          },
          "metadata": {
            "tags": []
          },
          "execution_count": 34
        }
      ]
    },
    {
      "cell_type": "code",
      "metadata": {
        "id": "oym4U0F7IVBT",
        "colab_type": "code",
        "outputId": "98c21a77-c2ea-4223-e4f0-4539e3d1222c",
        "colab": {
          "base_uri": "https://localhost:8080/",
          "height": 283
        }
      },
      "source": [
        "history_= fit(15, 1e-3, model, train_loader, val_loader)"
      ],
      "execution_count": 35,
      "outputs": [
        {
          "output_type": "stream",
          "text": [
            "Epoch [0], val_loss: 1.5252, val_acc: 0.4159\n",
            "Epoch [1], val_loss: 1.2286, val_acc: 0.5644\n",
            "Epoch [2], val_loss: 1.0342, val_acc: 0.6398\n",
            "Epoch [3], val_loss: 0.9514, val_acc: 0.6722\n",
            "Epoch [4], val_loss: 0.8623, val_acc: 0.7185\n",
            "Epoch [5], val_loss: 0.8660, val_acc: 0.7222\n",
            "Epoch [6], val_loss: 0.7951, val_acc: 0.7526\n",
            "Epoch [7], val_loss: 0.7914, val_acc: 0.7682\n",
            "Epoch [8], val_loss: 0.7336, val_acc: 0.7763\n",
            "Epoch [9], val_loss: 0.7895, val_acc: 0.7644\n",
            "Epoch [10], val_loss: 0.7464, val_acc: 0.7910\n",
            "Epoch [11], val_loss: 0.8293, val_acc: 0.7825\n",
            "Epoch [12], val_loss: 0.8402, val_acc: 0.7773\n",
            "Epoch [13], val_loss: 0.8362, val_acc: 0.7952\n",
            "Epoch [14], val_loss: 0.8216, val_acc: 0.7985\n"
          ],
          "name": "stdout"
        }
      ]
    },
    {
      "cell_type": "code",
      "metadata": {
        "id": "okd5wudcvqcs",
        "colab_type": "code",
        "outputId": "015c02cb-e5f0-486a-96c3-3af9d92b33c6",
        "colab": {
          "base_uri": "https://localhost:8080/",
          "height": 283
        }
      },
      "source": [
        "history = fit(15, 1e-3, resnet, train_loader, val_loader)"
      ],
      "execution_count": 36,
      "outputs": [
        {
          "output_type": "stream",
          "text": [
            "Epoch [0], val_loss: 1.9575, val_acc: 0.3383\n",
            "Epoch [1], val_loss: 2.0884, val_acc: 0.2620\n",
            "Epoch [2], val_loss: 1.6057, val_acc: 0.4049\n",
            "Epoch [3], val_loss: 1.3885, val_acc: 0.4999\n",
            "Epoch [4], val_loss: 1.3229, val_acc: 0.5312\n",
            "Epoch [5], val_loss: 1.1360, val_acc: 0.5980\n",
            "Epoch [6], val_loss: 1.0482, val_acc: 0.6288\n",
            "Epoch [7], val_loss: 0.9867, val_acc: 0.6574\n",
            "Epoch [8], val_loss: 0.9318, val_acc: 0.6785\n",
            "Epoch [9], val_loss: 0.8926, val_acc: 0.6877\n",
            "Epoch [10], val_loss: 0.8674, val_acc: 0.7010\n",
            "Epoch [11], val_loss: 0.8643, val_acc: 0.7043\n",
            "Epoch [12], val_loss: 0.8524, val_acc: 0.7128\n",
            "Epoch [13], val_loss: 0.8142, val_acc: 0.7285\n",
            "Epoch [14], val_loss: 0.8349, val_acc: 0.7341\n"
          ],
          "name": "stdout"
        }
      ]
    },
    {
      "cell_type": "code",
      "metadata": {
        "id": "IPsXudB-xGIa",
        "colab_type": "code",
        "colab": {
          "base_uri": "https://localhost:8080/",
          "height": 264
        },
        "outputId": "920a0295-2ba0-4af5-cea7-6380fa0e036f"
      },
      "source": [
        "#Plots losses\n",
        "losses_res = [x['val_loss']for x in history]\n",
        "losses_cus = [x['val_loss']for x in history_]\n",
        "\n",
        "fig, ax = plt.subplots()\n",
        "ax.plot(losses_res, '-b', label='Resnet')\n",
        "ax.plot(losses_cus, '--r', label='Custom')\n",
        "ax.axis('equal')\n",
        "leg = ax.legend()\n",
        "plt.show()"
      ],
      "execution_count": 37,
      "outputs": [
        {
          "output_type": "display_data",
          "data": {
            "image/png": "[encoded data removed]",
            "text/plain": [
              "<Figure size 432x288 with 1 Axes>"
            ]
          },
          "metadata": {
            "tags": [],
            "needs_background": "light"
          }
        }
      ]
    },
    {
      "cell_type": "code",
      "metadata": {
        "id": "afZJMHFnOOMa",
        "colab_type": "code",
        "colab": {
          "base_uri": "https://localhost:8080/",
          "height": 282
        },
        "outputId": "c5bebc26-5202-4f9f-d4d9-9ad54e6ae95d"
      },
      "source": [
        "#Plot metrics\n",
        "acc_res = [x['val_acc'] for x in history]\n",
        "acc_custom = [x['val_acc'] for x in history_]\n",
        "\n",
        "fig, ax = plt.subplots()\n",
        "ax.plot(acc_res, '-b', label='Resnet')\n",
        "ax.plot(acc_custom, '--r', label='Custom')\n",
        "plt.legend()"
      ],
      "execution_count": 38,
      "outputs": [
        {
          "output_type": "execute_result",
          "data": {
            "text/plain": [
              "<matplotlib.legend.Legend at 0x7fcb84ff35c0>"
            ]
          },
          "metadata": {
            "tags": []
          },
          "execution_count": 38
        },
        {
          "output_type": "display_data",
          "data": {
            "image/png": "[encoded data removed]",
            "text/plain": [
              "<Figure size 432x288 with 1 Axes>"
            ]
          },
          "metadata": {
            "tags": [],
            "needs_background": "light"
          }
        }
      ]
    },
    {
      "cell_type": "code",
      "metadata": {
        "id": "dBEEtEtQOwlQ",
        "colab_type": "code",
        "colab": {
          "base_uri": "https://localhost:8080/",
          "height": 70
        },
        "outputId": "86eadead-be29-4348-efe3-1a838ff86372"
      },
      "source": [
        "from sklearn.metrics import confusion_matrix, plot_confusion_matrix\n",
        "import numpy as np\n",
        "\n",
        "losses = []\n",
        "for batch in test_loader:\n",
        "  images, label = batch\n",
        "  output = model.forward(images)\n",
        "  loss = F.cross_entropy(output, label)\n",
        "  losses.append(loss)\n",
        "\n",
        "  \n",
        "x = images.cpu().data.numpy()\n",
        "y_pre = output.cpu().data.numpy()\n",
        "y_true = label.cpu().data.numpy()\n",
        "\n",
        "list(y_pre)\n",
        "print(label)\n",
        "ypre = []\n",
        "\n",
        "for i in y_pre:\n",
        "  ypre.append(np.argmax(i))\n",
        "\n",
        "ypre = np.array(ypre)\n",
        "\n",
        "print(ypre.shape, y_true.shape, images.shape)\n",
        "\n",
        "conf_m = np.array(confusion_matrix(y_true, ypre))\n",
        "conf_m.shape"
      ],
      "execution_count": 39,
      "outputs": [
        {
          "output_type": "stream",
          "text": [
            "tensor([8, 4, 9, 6, 7, 4, 2, 7], device='cuda:0')\n",
            "(8,) (8,) torch.Size([8, 3, 32, 32])\n"
          ],
          "name": "stdout"
        },
        {
          "output_type": "execute_result",
          "data": {
            "text/plain": [
              "(9, 9)"
            ]
          },
          "metadata": {
            "tags": []
          },
          "execution_count": 39
        }
      ]
    },
    {
      "cell_type": "code",
      "metadata": {
        "id": "Ih_PLu5j55DR",
        "colab_type": "code",
        "colab": {
          "base_uri": "https://localhost:8080/",
          "height": 344
        },
        "outputId": "d2703e03-0e0b-4083-9fb9-d3d4540ec4a8"
      },
      "source": [
        "import pandas as pd\n",
        "import seaborn as sns\n",
        "\n",
        "classes = [i for i in train_ds.classes]\n",
        "target = [i for i in train_ds.classes]\n",
        "df =  pd.DataFrame(conf_m, classes[:-1], target[:-1])\n",
        "plt.title('Custom Model')\n",
        "sns.heatmap(df, annot=True)"
      ],
      "execution_count": 42,
      "outputs": [
        {
          "output_type": "execute_result",
          "data": {
            "text/plain": [
              "<matplotlib.axes._subplots.AxesSubplot at 0x7fcab412c748>"
            ]
          },
          "metadata": {
            "tags": []
          },
          "execution_count": 42
        },
        {
          "output_type": "display_data",
          "data": {
            "image/png": "[encoded data removed]",
            "text/plain": [
              "<Figure size 432x288 with 2 Axes>"
            ]
          },
          "metadata": {
            "tags": [],
            "needs_background": "light"
          }
        }
      ]
    },
    {
      "cell_type": "code",
      "metadata": {
        "id": "W0IZIzdE2Vd3",
        "colab_type": "code",
        "colab": {
          "base_uri": "https://localhost:8080/",
          "height": 70
        },
        "outputId": "e189acf7-76ec-4dd8-e4e0-114dcfad1fdf"
      },
      "source": [
        "from sklearn.metrics import confusion_matrix, plot_confusion_matrix\n",
        "import numpy as np\n",
        "for batch in test_loader:\n",
        "  images, label = batch\n",
        "  output = resnet.forward(images)\n",
        "  break\n",
        "\n",
        "x = images.cpu().data.numpy()\n",
        "y_pre = output.cpu().data.numpy()\n",
        "y_true = label.cpu().data.numpy()\n",
        "\n",
        "list(y_pre)\n",
        "print(label)\n",
        "ypre = []\n",
        "\n",
        "for i in y_pre:\n",
        "  ypre.append(np.argmax(i))\n",
        "\n",
        "ypre = np.array(ypre)\n",
        "\n",
        "print(ypre.shape, y_true.shape, images.shape)\n",
        "\n",
        "conf_m = np.array(confusion_matrix(y_true, ypre))\n",
        "conf_m.shape"
      ],
      "execution_count": 43,
      "outputs": [
        {
          "output_type": "stream",
          "text": [
            "tensor([2, 9, 9, 3, 8, 9, 0, 0, 9, 1, 4, 5, 8, 3, 1, 6], device='cuda:0')\n",
            "(16,) (16,) torch.Size([16, 3, 32, 32])\n"
          ],
          "name": "stdout"
        },
        {
          "output_type": "execute_result",
          "data": {
            "text/plain": [
              "(10, 10)"
            ]
          },
          "metadata": {
            "tags": []
          },
          "execution_count": 43
        }
      ]
    },
    {
      "cell_type": "code",
      "metadata": {
        "id": "bid09hUY2m1j",
        "colab_type": "code",
        "colab": {
          "base_uri": "https://localhost:8080/",
          "height": 344
        },
        "outputId": "f680b634-2128-44d6-9b96-b74ac568c450"
      },
      "source": [
        "import pandas\n",
        "import seaborn as sns\n",
        "\n",
        "classes = [i for i in train_ds.classes]\n",
        "target = [i for i in train_ds.classes]\n",
        "df =  pd.DataFrame(conf_m, classes[:], target[:])\n",
        "plt.title('Resnet50 Model')\n",
        "sns.heatmap(df, annot=True)"
      ],
      "execution_count": 44,
      "outputs": [
        {
          "output_type": "execute_result",
          "data": {
            "text/plain": [
              "<matplotlib.axes._subplots.AxesSubplot at 0x7fca43d7ad68>"
            ]
          },
          "metadata": {
            "tags": []
          },
          "execution_count": 44
        },
        {
          "output_type": "display_data",
          "data": {
            "image/png": "[encoded data removed]",
            "text/plain": [
              "<Figure size 432x288 with 2 Axes>"
            ]
          },
          "metadata": {
            "tags": [],
            "needs_background": "light"
          }
        }
      ]
    },
    {
      "cell_type": "code",
      "metadata": {
        "id": "MZlhHTJr2qCi",
        "colab_type": "code",
        "colab": {}
      },
      "source": [
        ""
      ],
      "execution_count": 0,
      "outputs": []
    }
  ]
}