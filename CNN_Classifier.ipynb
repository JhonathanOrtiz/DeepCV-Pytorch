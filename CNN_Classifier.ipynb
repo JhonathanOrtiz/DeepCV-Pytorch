{
  "nbformat": 4,
  "nbformat_minor": 0,
  "metadata": {
    "colab": {
      "name": "Simpson_Classificator.ipynb",
      "provenance": [],
      "authorship_tag": "ABX9TyOZrGdXKy83iHQIotSs5Bsb",
      "include_colab_link": true
    },
    "kernelspec": {
      "name": "python3",
      "display_name": "Python 3"
    },
    "accelerator": "GPU"
  },
  "cells": [
    {
      "cell_type": "markdown",
      "metadata": {
        "id": "view-in-github",
        "colab_type": "text"
      },
      "source": [
        "<a href=\"https://colab.research.google.com/github/JhonathanOrtiz/DeepCV-Pytorch/blob/master/CNN_Classifier.ipynb\" target=\"_parent\"><img src=\"https://colab.research.google.com/assets/colab-badge.svg\" alt=\"Open In Colab\"/></a>"
      ]
    },
    {
      "cell_type": "markdown",
      "metadata": {
        "id": "F8tEk2DvbHDr",
        "colab_type": "text"
      },
      "source": [
        "Requiremnts to import kaggle dataset\n"
      ]
    },
    {
      "cell_type": "code",
      "metadata": {
        "id": "J-Afc2rlA-Ws",
        "colab_type": "code",
        "outputId": "592f1357-047f-4e09-b061-e6a9415a14d1",
        "colab": {
          "base_uri": "https://localhost:8080/",
          "height": 52
        }
      },
      "source": [
        "from torchvision.datasets import ImageFolder\n",
        "from torchvision.transforms import ToTensor, ToPILImage, Normalize, Resize\n",
        "from torchvision import transforms\n",
        "from torch.utils.data import random_split, DataLoader\n",
        "from torchvision.datasets import CIFAR10\n",
        "\n",
        "\n",
        "dataset = CIFAR10('data', transform=transforms.Compose([Resize((32,32)), \n",
        "                                                        ToTensor(), \n",
        "                                                        Normalize(mean=[0.485, 0.456, 0.406], std=[0.229, 0.224, 0.225])]),\n",
        "                                                        download=True)\n",
        "\n",
        "val_len = int(len(dataset)*0.1) \n",
        "train_len = len(dataset) - val_len\n",
        "\n",
        "train_ds, val_ds = random_split(dataset, [train_len, val_len])\n",
        "\n",
        "test_len = int(len(val_ds)*0.1)\n",
        "val_len = len(val_ds) - test_len                            \n",
        "\n",
        "val_ds, test_ds = random_split(val_ds, [val_len, test_len]) \n",
        "\n",
        "print(len(train_ds), len(val_ds), len(test_ds))"
      ],
      "execution_count": 189,
      "outputs": [
        {
          "output_type": "stream",
          "text": [
            "Files already downloaded and verified\n",
            "45000 4500 500\n"
          ],
          "name": "stdout"
        }
      ]
    },
    {
      "cell_type": "code",
      "metadata": {
        "id": "sZIpOU7bQZ7v",
        "colab_type": "code",
        "colab": {}
      },
      "source": [
        "BATCH_SIZE = 16\n",
        "\n",
        "train_loader = DataLoader(train_ds, batch_size=BATCH_SIZE, shuffle=True, num_workers=4, pin_memory=True)\n",
        "val_loader = DataLoader(val_ds, batch_size=BATCH_SIZE, num_workers=4, pin_memory=True)\n",
        "test_loader = DataLoader(test_ds, batch_size=BATCH_SIZE, num_workers=4, pin_memory=True)"
      ],
      "execution_count": 0,
      "outputs": []
    },
    {
      "cell_type": "code",
      "metadata": {
        "id": "FFTtzZvjY9j2",
        "colab_type": "code",
        "outputId": "439d3bdc-4cf5-4907-c58f-d951476b21e2",
        "colab": {
          "base_uri": "https://localhost:8080/",
          "height": 318
        }
      },
      "source": [
        "import matplotlib.pyplot as plt\n",
        "for batch in train_loader:\n",
        "  image, label = batch\n",
        "  break\n",
        "plt.imshow(image[0].numpy().transpose(1,2,0))"
      ],
      "execution_count": 38,
      "outputs": [
        {
          "output_type": "stream",
          "text": [
            "Clipping input data to the valid range for imshow with RGB data ([0..1] for floats or [0..255] for integers).\n"
          ],
          "name": "stderr"
        },
        {
          "output_type": "stream",
          "text": [
            "tensor(-2.1179)\n"
          ],
          "name": "stdout"
        },
        {
          "output_type": "execute_result",
          "data": {
            "text/plain": [
              "<matplotlib.image.AxesImage at 0x7fc7f9992c88>"
            ]
          },
          "metadata": {
            "tags": []
          },
          "execution_count": 38
        },
        {
          "output_type": "display_data",
          "data": {
            "image/png": "[encoded data removed]",
            "text/plain": [
              "<Figure size 432x288 with 1 Axes>"
            ]
          },
          "metadata": {
            "tags": [],
            "needs_background": "light"
          }
        }
      ]
    },
    {
      "cell_type": "code",
      "metadata": {
        "id": "JCB0HCDBplWZ",
        "colab_type": "code",
        "colab": {}
      },
      "source": [
        "topology = [64, 'M', 128, 'M', 256,'M', 512, 'M', 512, 'M']"
      ],
      "execution_count": 0,
      "outputs": []
    },
    {
      "cell_type": "code",
      "metadata": {
        "id": "jfxfqdf17RNP",
        "colab_type": "code",
        "colab": {}
      },
      "source": [
        "def accuracy(outputs, labels):\n",
        "    _, preds = torch.max(outputs, dim=1)\n",
        "    return torch.tensor(torch.sum(preds == labels).item() / len(preds))\n",
        "    \n",
        "class ImageClassificationBase(nn.Module):\n",
        "    def training_step(self, batch):\n",
        "        images, labels = batch \n",
        "        out = self(images)                  # Generate predictions\n",
        "        loss = F.cross_entropy(out, labels) # Calculate loss\n",
        "        return loss\n",
        "    \n",
        "    def validation_step(self, batch):\n",
        "        images, labels = batch \n",
        "        out = self(images)                    # Generate predictions\n",
        "        loss = F.cross_entropy(out, labels)   # Calculate loss\n",
        "        acc = accuracy(out, labels)           # Calculate accuracy\n",
        "        return {'val_loss': loss.detach(), 'val_acc': acc}\n",
        "        \n",
        "    def validation_epoch_end(self, outputs):\n",
        "        batch_losses = [x['val_loss'] for x in outputs]\n",
        "        epoch_loss = torch.stack(batch_losses).mean()   # Combine losses\n",
        "        batch_accs = [x['val_acc'] for x in outputs]\n",
        "        epoch_acc = torch.stack(batch_accs).mean()      # Combine accuracies\n",
        "        return {'val_loss': epoch_loss.item(), 'val_acc': epoch_acc.item()}\n",
        "    \n",
        "    def epoch_end(self, epoch, result):\n",
        "        print(\"Epoch [{}], val_loss: {:.4f}, val_acc: {:.4f}\".format(epoch, result['val_loss'], result['val_acc']))"
      ],
      "execution_count": 0,
      "outputs": []
    },
    {
      "cell_type": "code",
      "metadata": {
        "id": "DuFAgi_6TIFn",
        "colab_type": "code",
        "colab": {}
      },
      "source": [
        "from torch import nn\n",
        "import torch.nn.functional as F \n",
        "\n",
        "class Net(ImageClassificationBase):\n",
        "\n",
        "  def __init__(self,input_channel, output_size):\n",
        "    super(Net, self).__init__()\n",
        "    self.input_channel =  input_channel\n",
        "    self.output_size = output_size\n",
        "    self.convlayer = self.create_conv_layer(topology)\n",
        "    self.fc = nn.Sequential(\n",
        "        nn.Linear(512*1*1, 128),\n",
        "        nn.ReLU(),\n",
        "        nn.Dropout(0.3),\n",
        "        nn.Linear(128, 256),\n",
        "        nn.ReLU(),\n",
        "        nn.Dropout(0.3),\n",
        "        nn.Linear(256, 512),\n",
        "        nn.ReLU(),\n",
        "        nn.Dropout(0.3),\n",
        "        nn.Linear(512, 1024),\n",
        "        nn.ReLU(),\n",
        "        nn.Dropout(0.3),\n",
        "        nn.Linear(1024, output_size)\n",
        "    )\n",
        "    \n",
        "  def create_conv_layer(self, architecture):\n",
        "    layers = []\n",
        "    input_channel = self.input_channel\n",
        "\n",
        "    for x in architecture:\n",
        "\n",
        "      if type(x) == int:\n",
        "        output_channel = x\n",
        "        layers += [nn.Conv2d(input_channel, x, (3,3), 1, 1),\n",
        "                   nn.BatchNorm2d(x),\n",
        "                   nn.LeakyReLU()]\n",
        "        \n",
        "        input_channel = x \n",
        "\n",
        "      elif x == 'M':\n",
        "        layers += [nn.MaxPool2d((2,2), (2,2))]     \n",
        "\n",
        "    return nn.Sequential(*layers)\n",
        "\n",
        "  def forward(self, x):\n",
        "    x = self.convlayer(x)\n",
        "    x = x.reshape(x.shape[0], -1)\n",
        "    x = self.fc(x)\n",
        "    return x"
      ],
      "execution_count": 0,
      "outputs": []
    },
    {
      "cell_type": "code",
      "metadata": {
        "id": "0bnynav-2XSx",
        "colab_type": "code",
        "colab": {}
      },
      "source": [
        "import torch\n",
        "import torch.nn as nn\n",
        "\n",
        "#Create ResidualBlock\n",
        "\n",
        "class block(ImageClassificationBase):\n",
        "    def __init__(\n",
        "        self, in_channels, intermediate_channels, identity_downsample=None, stride=1\n",
        "    ):\n",
        "        super(block, self).__init__()\n",
        "        self.expansion = 4\n",
        "        self.conv1 = nn.Conv2d(\n",
        "            in_channels, intermediate_channels, kernel_size=1, stride=1, padding=0\n",
        "        )\n",
        "        self.bn1 = nn.BatchNorm2d(intermediate_channels)\n",
        "        self.conv2 = nn.Conv2d(\n",
        "            intermediate_channels,\n",
        "            intermediate_channels,\n",
        "            kernel_size=3,\n",
        "            stride=stride,\n",
        "            padding=1,\n",
        "        )\n",
        "        self.bn2 = nn.BatchNorm2d(intermediate_channels)\n",
        "        self.conv3 = nn.Conv2d(\n",
        "            intermediate_channels,\n",
        "            intermediate_channels * self.expansion,\n",
        "            kernel_size=1,\n",
        "            stride=1,\n",
        "            padding=0,\n",
        "        )\n",
        "        self.bn3 = nn.BatchNorm2d(intermediate_channels * self.expansion)\n",
        "        self.relu = nn.ReLU()\n",
        "        self.identity_downsample = identity_downsample\n",
        "        self.stride = stride\n",
        "\n",
        "    def forward(self, x):\n",
        "        identity = x.clone()\n",
        "\n",
        "        x = self.conv1(x)\n",
        "        x = self.bn1(x)\n",
        "        x = self.relu(x)\n",
        "        x = self.conv2(x)\n",
        "        x = self.bn2(x)\n",
        "        x = self.relu(x)\n",
        "        x = self.conv3(x)\n",
        "        x = self.bn3(x)\n",
        "\n",
        "        if self.identity_downsample is not None:\n",
        "            identity = self.identity_downsample(identity)\n",
        "\n",
        "        x += identity\n",
        "        x = self.relu(x)\n",
        "        return x"
      ],
      "execution_count": 0,
      "outputs": []
    },
    {
      "cell_type": "code",
      "metadata": {
        "id": "THl20rRnuxDt",
        "colab_type": "code",
        "colab": {}
      },
      "source": [
        "class ResNet(ImageClassificationBase):\n",
        "    def __init__(self, block, layers, image_channels, num_classes):\n",
        "        super(ResNet, self).__init__()\n",
        "        self.in_channels = 64\n",
        "        self.conv1 = nn.Conv2d(image_channels, 64, kernel_size=7, stride=2, padding=3)\n",
        "        self.bn1 = nn.BatchNorm2d(64)\n",
        "        self.relu = nn.ReLU()\n",
        "        self.maxpool = nn.MaxPool2d(kernel_size=3, stride=2, padding=1)\n",
        "\n",
        "        # Essentially the entire ResNet architecture are in these 4 lines below\n",
        "        self.layer1 = self._make_layer(\n",
        "            block, layers[0], intermediate_channels=64, stride=1\n",
        "        )\n",
        "        self.layer2 = self._make_layer(\n",
        "            block, layers[1], intermediate_channels=128, stride=2\n",
        "        )\n",
        "        self.layer3 = self._make_layer(\n",
        "            block, layers[2], intermediate_channels=256, stride=2\n",
        "        )\n",
        "        self.layer4 = self._make_layer(\n",
        "            block, layers[3], intermediate_channels=512, stride=2\n",
        "        )\n",
        "\n",
        "        self.avgpool = nn.AdaptiveAvgPool2d((1, 1))\n",
        "        self.fc = nn.Linear(512 * 4, num_classes)\n",
        "\n",
        "    def forward(self, x):\n",
        "        x = self.conv1(x)\n",
        "        x = self.bn1(x)\n",
        "        x = self.relu(x)\n",
        "        x = self.maxpool(x)\n",
        "        x = self.layer1(x)\n",
        "        x = self.layer2(x)\n",
        "        x = self.layer3(x)\n",
        "        x = self.layer4(x)\n",
        "\n",
        "        x = self.avgpool(x)\n",
        "        x = x.reshape(x.shape[0], -1)\n",
        "        x = self.fc(x)\n",
        "\n",
        "        return x\n",
        "\n",
        "    def _make_layer(self, block, num_residual_blocks, intermediate_channels, stride):\n",
        "        identity_downsample = None\n",
        "        layers = []\n",
        "\n",
        "        # Either if we half the input space for ex, 56x56 -> 28x28 (stride=2), or channels changes\n",
        "        # we need to adapt the Identity (skip connection) so it will be able to be added\n",
        "        # to the layer that's ahead\n",
        "        if stride != 1 or self.in_channels != intermediate_channels * 4:\n",
        "            identity_downsample = nn.Sequential(\n",
        "                nn.Conv2d(\n",
        "                    self.in_channels,\n",
        "                    intermediate_channels * 4,\n",
        "                    kernel_size=1,\n",
        "                    stride=stride,\n",
        "                ),\n",
        "                nn.BatchNorm2d(intermediate_channels * 4),\n",
        "            )\n",
        "\n",
        "        layers.append(\n",
        "            block(self.in_channels, intermediate_channels, identity_downsample, stride)\n",
        "        )\n",
        "\n",
        "        # The expansion size is always 4 for ResNet 50,101,152\n",
        "        self.in_channels = intermediate_channels * 4\n",
        "\n",
        "        # For example for first resnet layer: 256 will be mapped to 64 as intermediate layer,\n",
        "        # then finally back to 256. Hence no identity downsample is needed, since stride = 1,\n",
        "        # and also same amount of channels.\n",
        "        for i in range(num_residual_blocks - 1):\n",
        "            layers.append(block(self.in_channels, intermediate_channels))\n",
        "\n",
        "        return nn.Sequential(*layers)\n",
        "\n",
        "\n"
      ],
      "execution_count": 0,
      "outputs": []
    },
    {
      "cell_type": "code",
      "metadata": {
        "id": "fim77ZOYZXAN",
        "colab_type": "code",
        "outputId": "7ac55d33-42ae-4bb5-cd2c-644dde175bbc",
        "colab": {
          "base_uri": "https://localhost:8080/",
          "height": 52
        }
      },
      "source": [
        "import torch\n",
        "Model = Net(3, 10)\n",
        "x = torch.rand(1,3,32,32)\n",
        "Model.forward(x)"
      ],
      "execution_count": 63,
      "outputs": [
        {
          "output_type": "execute_result",
          "data": {
            "text/plain": [
              "tensor([[-0.0190,  0.0306,  0.0203, -0.0348,  0.0123,  0.1286,  0.0404,  0.0502,\n",
              "         -0.0062,  0.1255]], grad_fn=<AddmmBackward>)"
            ]
          },
          "metadata": {
            "tags": []
          },
          "execution_count": 63
        }
      ]
    },
    {
      "cell_type": "code",
      "metadata": {
        "id": "izOPzK9NDk3M",
        "colab_type": "code",
        "colab": {}
      },
      "source": [
        "def get_default_device():\n",
        "    \"\"\"Pick GPU if available, else CPU\"\"\"\n",
        "    if torch.cuda.is_available():\n",
        "        return torch.device('cuda')\n",
        "    else:\n",
        "        return torch.device('cpu')"
      ],
      "execution_count": 0,
      "outputs": []
    },
    {
      "cell_type": "code",
      "metadata": {
        "id": "IVk1i5W2prA4",
        "colab_type": "code",
        "colab": {}
      },
      "source": [
        "def to_device(data, device):\n",
        "    \"\"\"Move tensor(s) to chosen device\"\"\"\n",
        "    if isinstance(data, (list,tuple)):\n",
        "        return [to_device(x, device) for x in data]\n",
        "    return data.to(device, non_blocking=True)\n",
        "\n",
        "class DeviceDataLoader():\n",
        "    \"\"\"Wrap a dataloader to move data to a device\"\"\"\n",
        "    def __init__(self, dl, device):\n",
        "        self.dl = dl\n",
        "        self.device = device\n",
        "        \n",
        "    def __iter__(self):\n",
        "        \"\"\"Yield a batch of data after moving it to device\"\"\"\n",
        "        for b in self.dl: \n",
        "            yield to_device(b, self.device)\n",
        "\n",
        "    def __len__(self):\n",
        "        \"\"\"Number of batches\"\"\"\n",
        "        return len(self.dl)"
      ],
      "execution_count": 0,
      "outputs": []
    },
    {
      "cell_type": "code",
      "metadata": {
        "id": "_p2-pxUZF7FG",
        "colab_type": "code",
        "outputId": "230f0376-e695-4c4c-c24a-1e5614f063e1",
        "colab": {
          "base_uri": "https://localhost:8080/",
          "height": 34
        }
      },
      "source": [
        "device = get_default_device()\n",
        "device"
      ],
      "execution_count": 45,
      "outputs": [
        {
          "output_type": "execute_result",
          "data": {
            "text/plain": [
              "device(type='cuda')"
            ]
          },
          "metadata": {
            "tags": []
          },
          "execution_count": 45
        }
      ]
    },
    {
      "cell_type": "code",
      "metadata": {
        "id": "u3Cf_bCJGACz",
        "colab_type": "code",
        "colab": {}
      },
      "source": [
        "train_loader = DeviceDataLoader(train_loader, device)\n",
        "val_loader = DeviceDataLoader(val_loader, device)\n",
        "test_loader = DeviceDataLoader(test_loader, device)"
      ],
      "execution_count": 0,
      "outputs": []
    },
    {
      "cell_type": "code",
      "metadata": {
        "id": "Yl1Qz_StFjC5",
        "colab_type": "code",
        "colab": {}
      },
      "source": [
        "def evaluate(model, val_loader):\n",
        "    outputs = [model.validation_step(batch) for batch in val_loader]\n",
        "    return model.validation_epoch_end(outputs)\n",
        "\n",
        "def fit(epochs, lr, model, train_loader, val_loader, opt_func=torch.optim.Adam):\n",
        "    history = []\n",
        "    optimizer = opt_func(model.parameters(), lr)\n",
        "    for epoch in range(epochs):\n",
        "        # Training Phase \n",
        "        for batch in train_loader:\n",
        "            loss = model.training_step(batch)\n",
        "            loss.backward()\n",
        "            optimizer.step()\n",
        "            optimizer.zero_grad()\n",
        "        # Validation phase\n",
        "        result = evaluate(model, val_loader)\n",
        "        model.epoch_end(epoch, result)\n",
        "        history.append(result)\n",
        "    return history"
      ],
      "execution_count": 0,
      "outputs": []
    },
    {
      "cell_type": "code",
      "metadata": {
        "id": "k6hgHaU-F1dd",
        "colab_type": "code",
        "outputId": "bf5e943c-2404-4918-8e28-61b8cbd1e610",
        "colab": {
          "base_uri": "https://localhost:8080/",
          "height": 34
        }
      },
      "source": [
        "model = to_device(Net(3,10), device)\n",
        "hist = evaluate(model, val_loader)\n",
        "hist"
      ],
      "execution_count": 142,
      "outputs": [
        {
          "output_type": "execute_result",
          "data": {
            "text/plain": [
              "{'val_acc': 0.09574468433856964, 'val_loss': 2.305103302001953}"
            ]
          },
          "metadata": {
            "tags": []
          },
          "execution_count": 142
        }
      ]
    },
    {
      "cell_type": "code",
      "metadata": {
        "id": "oym4U0F7IVBT",
        "colab_type": "code",
        "outputId": "2192243c-ba56-45aa-c22e-b7edda465187",
        "colab": {
          "base_uri": "https://localhost:8080/",
          "height": 372
        }
      },
      "source": [
        "history_= fit(20, 1e-3, model, train_loader, val_loader)"
      ],
      "execution_count": 144,
      "outputs": [
        {
          "output_type": "stream",
          "text": [
            "Epoch [0], val_loss: 1.4775, val_acc: 0.4430\n",
            "Epoch [1], val_loss: 1.3178, val_acc: 0.5193\n",
            "Epoch [2], val_loss: 1.2711, val_acc: 0.5483\n",
            "Epoch [3], val_loss: 1.1006, val_acc: 0.6303\n",
            "Epoch [4], val_loss: 1.0668, val_acc: 0.6407\n",
            "Epoch [5], val_loss: 0.9544, val_acc: 0.6864\n",
            "Epoch [6], val_loss: 0.9506, val_acc: 0.7086\n",
            "Epoch [7], val_loss: 0.9412, val_acc: 0.7050\n",
            "Epoch [8], val_loss: 0.9144, val_acc: 0.7221\n",
            "Epoch [9], val_loss: 0.8887, val_acc: 0.7411\n",
            "Epoch [10], val_loss: 0.8714, val_acc: 0.7323\n",
            "Epoch [11], val_loss: 0.9147, val_acc: 0.7371\n",
            "Epoch [12], val_loss: 0.8994, val_acc: 0.7380\n",
            "Epoch [13], val_loss: 0.9940, val_acc: 0.7609\n",
            "Epoch [14], val_loss: 0.9861, val_acc: 0.7507\n",
            "Epoch [15], val_loss: 1.0204, val_acc: 0.7653\n",
            "Epoch [16], val_loss: 0.9846, val_acc: 0.7668\n",
            "Epoch [17], val_loss: 0.9032, val_acc: 0.7624\n",
            "Epoch [18], val_loss: 0.9485, val_acc: 0.7635\n",
            "Epoch [19], val_loss: 0.9977, val_acc: 0.7622\n"
          ],
          "name": "stdout"
        }
      ]
    },
    {
      "cell_type": "code",
      "metadata": {
        "id": "zIZxUAHlu0Y2",
        "colab_type": "code",
        "colab": {
          "base_uri": "https://localhost:8080/",
          "height": 34
        },
        "outputId": "3afa51b8-3606-4fcc-e5ad-48778e5190bc"
      },
      "source": [
        "def ResNet50(img_channel=3, num_classes=10):\n",
        "    return ResNet(block, [3, 4, 6, 3], img_channel, num_classes)\n",
        "\n",
        "\n",
        "def ResNet101(img_channel=3, num_classes=10):\n",
        "    return ResNet(block, [3, 4, 23, 3], img_channel, num_classes)\n",
        "\n",
        "\n",
        "def ResNet152(img_channel=3, num_classes=10):\n",
        "    return ResNet(block, [3, 8, 36, 3], img_channel, num_classes)\n",
        "\n",
        "\n",
        "def test():\n",
        "    net = ResNet101(img_channel=3, num_classes=1000)\n",
        "    y = net(torch.randn(4, 3, 224, 224)).to(\"cuda\")\n",
        "    print(y.size())\n",
        "\n",
        "\n",
        "test()"
      ],
      "execution_count": 145,
      "outputs": [
        {
          "output_type": "stream",
          "text": [
            "torch.Size([4, 1000])\n"
          ],
          "name": "stdout"
        }
      ]
    },
    {
      "cell_type": "code",
      "metadata": {
        "id": "bUFLSLnxvCLV",
        "colab_type": "code",
        "colab": {
          "base_uri": "https://localhost:8080/",
          "height": 34
        },
        "outputId": "b4e9f0e0-3044-40e1-ccd5-1f879eb5ab10"
      },
      "source": [
        "resnet = to_device(ResNet50(3, 10), device)\n",
        "history = evaluate(resnet, val_loader)\n",
        "history"
      ],
      "execution_count": 60,
      "outputs": [
        {
          "output_type": "execute_result",
          "data": {
            "text/plain": [
              "{'val_acc': 0.09618794173002243, 'val_loss': 2.670450210571289}"
            ]
          },
          "metadata": {
            "tags": []
          },
          "execution_count": 60
        }
      ]
    },
    {
      "cell_type": "code",
      "metadata": {
        "id": "okd5wudcvqcs",
        "colab_type": "code",
        "colab": {
          "base_uri": "https://localhost:8080/",
          "height": 372
        },
        "outputId": "4127b166-a35d-4280-f78f-2bb249bea3de"
      },
      "source": [
        "history = fit(20, 1e-3, resnet, train_loader, val_loader)"
      ],
      "execution_count": 61,
      "outputs": [
        {
          "output_type": "stream",
          "text": [
            "Epoch [0], val_loss: 2.6809, val_acc: 0.2221\n",
            "Epoch [1], val_loss: 2.2561, val_acc: 0.2593\n",
            "Epoch [2], val_loss: 1.8444, val_acc: 0.3395\n",
            "Epoch [3], val_loss: 1.6113, val_acc: 0.4125\n",
            "Epoch [4], val_loss: 1.4889, val_acc: 0.4774\n",
            "Epoch [5], val_loss: 1.3611, val_acc: 0.5202\n",
            "Epoch [6], val_loss: 1.2178, val_acc: 0.5678\n",
            "Epoch [7], val_loss: 1.1590, val_acc: 0.5969\n",
            "Epoch [8], val_loss: 1.1412, val_acc: 0.5944\n",
            "Epoch [9], val_loss: 1.0445, val_acc: 0.6359\n",
            "Epoch [10], val_loss: 0.9918, val_acc: 0.6571\n",
            "Epoch [11], val_loss: 0.9939, val_acc: 0.6598\n",
            "Epoch [12], val_loss: 0.9122, val_acc: 0.6895\n",
            "Epoch [13], val_loss: 0.9178, val_acc: 0.6908\n",
            "Epoch [14], val_loss: 0.9383, val_acc: 0.6855\n",
            "Epoch [15], val_loss: 0.8756, val_acc: 0.7128\n",
            "Epoch [16], val_loss: 0.9207, val_acc: 0.7035\n",
            "Epoch [17], val_loss: 0.9094, val_acc: 0.7103\n",
            "Epoch [18], val_loss: 0.9023, val_acc: 0.7046\n",
            "Epoch [19], val_loss: 0.9126, val_acc: 0.7130\n"
          ],
          "name": "stdout"
        }
      ]
    },
    {
      "cell_type": "code",
      "metadata": {
        "id": "IPsXudB-xGIa",
        "colab_type": "code",
        "colab": {
          "base_uri": "https://localhost:8080/",
          "height": 264
        },
        "outputId": "81c67832-275b-449b-fe89-cbb648d574ac"
      },
      "source": [
        "#Plots losses\n",
        "losses_res = [x['val_loss']for x in history]\n",
        "losses_cus = [x['val_loss']for x in history_]\n",
        "\n",
        "fig, ax = plt.subplots()\n",
        "ax.plot(losses_res, '-b', label='Resnet')\n",
        "ax.plot(losses_cus, '--r', label='Custom')\n",
        "ax.axis('equal')\n",
        "leg = ax.legend()\n",
        "plt.show()"
      ],
      "execution_count": 148,
      "outputs": [
        {
          "output_type": "display_data",
          "data": {
            "image/png": "[encoded data removed]",
            "text/plain": [
              "<Figure size 432x288 with 1 Axes>"
            ]
          },
          "metadata": {
            "tags": [],
            "needs_background": "light"
          }
        }
      ]
    },
    {
      "cell_type": "code",
      "metadata": {
        "id": "afZJMHFnOOMa",
        "colab_type": "code",
        "colab": {
          "base_uri": "https://localhost:8080/",
          "height": 282
        },
        "outputId": "da273e30-3d90-4085-d1d9-12a08ee2a480"
      },
      "source": [
        "#Plot metrics\n",
        "acc_res = [x['val_acc'] for x in history]\n",
        "acc_custom = [x['val_acc'] for x in history_]\n",
        "\n",
        "fig, ax = plt.subplots()\n",
        "ax.plot(acc_res, '-b', label='Resnet')\n",
        "ax.plot(acc_custom, '--r', label='Custom')\n",
        "plt.legend()"
      ],
      "execution_count": 150,
      "outputs": [
        {
          "output_type": "execute_result",
          "data": {
            "text/plain": [
              "<matplotlib.legend.Legend at 0x7fc7bd066fd0>"
            ]
          },
          "metadata": {
            "tags": []
          },
          "execution_count": 150
        },
        {
          "output_type": "display_data",
          "data": {
            "image/png": "[encoded data removed]",
            "text/plain": [
              "<Figure size 432x288 with 1 Axes>"
            ]
          },
          "metadata": {
            "tags": [],
            "needs_background": "light"
          }
        }
      ]
    },
    {
      "cell_type": "code",
      "metadata": {
        "id": "dBEEtEtQOwlQ",
        "colab_type": "code",
        "colab": {
          "base_uri": "https://localhost:8080/",
          "height": 70
        },
        "outputId": "ce2771ff-0674-4a25-d6c8-7eaacd621f05"
      },
      "source": [
        "from sklearn.metrics import confusion_matrix, plot_confusion_matrix\n",
        "import numpy as np\n",
        "for batch in test_loader:\n",
        "  images, label = batch\n",
        "  output = model.forward(images)\n",
        "  break\n",
        "\n",
        "\n",
        "\n",
        "x = images.cpu().data.numpy()\n",
        "y_pre = output.cpu().data.numpy()\n",
        "y_true = label.cpu().data.numpy()\n",
        "\n",
        "list(y_pre)\n",
        "print(label)\n",
        "ypre = []\n",
        "\n",
        "for i in y_pre:\n",
        "  ypre.append(np.argmax(i))\n",
        "\n",
        "ypre = np.array(ypre)\n",
        "\n",
        "print(ypre.shape, y_true.shape, image.shape)\n",
        "\n",
        "conf_m = np.array(confusion_matrix(y_true, ypre))\n",
        "conf_m.shape"
      ],
      "execution_count": 177,
      "outputs": [
        {
          "output_type": "stream",
          "text": [
            "tensor([9, 0, 5, 5, 2, 8, 6, 0, 6, 9, 7, 1, 2, 7, 0, 2], device='cuda:0')\n",
            "(16,) (16,) torch.Size([16, 3, 32, 32])\n"
          ],
          "name": "stdout"
        },
        {
          "output_type": "execute_result",
          "data": {
            "text/plain": [
              "(9, 9)"
            ]
          },
          "metadata": {
            "tags": []
          },
          "execution_count": 177
        }
      ]
    },
    {
      "cell_type": "code",
      "metadata": {
        "id": "Ih_PLu5j55DR",
        "colab_type": "code",
        "colab": {
          "base_uri": "https://localhost:8080/",
          "height": 344
        },
        "outputId": "27a0af9d-7225-4be9-8f78-f0aad495a635"
      },
      "source": [
        "import pandas\n",
        "import seaborn as sns\n",
        "\n",
        "classes = [i for i in dataset.classes]\n",
        "target = [i for i in dataset.classes]\n",
        "df =  pd.DataFrame(conf_m, classes[:-1], target[:-1])\n",
        "plt.title('Custom Model')\n",
        "sns.heatmap(df, annot=True)"
      ],
      "execution_count": 183,
      "outputs": [
        {
          "output_type": "execute_result",
          "data": {
            "text/plain": [
              "<matplotlib.axes._subplots.AxesSubplot at 0x7fc7bab794e0>"
            ]
          },
          "metadata": {
            "tags": []
          },
          "execution_count": 183
        },
        {
          "output_type": "display_data",
          "data": {
            "image/png": "[encoded data removed]",
            "text/plain": [
              "<Figure size 432x288 with 2 Axes>"
            ]
          },
          "metadata": {
            "tags": [],
            "needs_background": "light"
          }
        }
      ]
    },
    {
      "cell_type": "code",
      "metadata": {
        "id": "W0IZIzdE2Vd3",
        "colab_type": "code",
        "colab": {
          "base_uri": "https://localhost:8080/",
          "height": 70
        },
        "outputId": "267acc1c-3c46-4a1b-b462-d4d9274b769f"
      },
      "source": [
        "from sklearn.metrics import confusion_matrix, plot_confusion_matrix\n",
        "import numpy as np\n",
        "for batch in test_loader:\n",
        "  images, label = batch\n",
        "  output = resnet.forward(images)\n",
        "  break\n",
        "\n",
        "x = images.cpu().data.numpy()\n",
        "y_pre = output.cpu().data.numpy()\n",
        "y_true = label.cpu().data.numpy()\n",
        "\n",
        "list(y_pre)\n",
        "print(label)\n",
        "ypre = []\n",
        "\n",
        "for i in y_pre:\n",
        "  ypre.append(np.argmax(i))\n",
        "\n",
        "ypre = np.array(ypre)\n",
        "\n",
        "print(ypre.shape, y_true.shape, image.shape)\n",
        "\n",
        "conf_m = np.array(confusion_matrix(y_true, ypre))\n",
        "conf_m.shape"
      ],
      "execution_count": 185,
      "outputs": [
        {
          "output_type": "stream",
          "text": [
            "tensor([9, 0, 5, 5, 2, 8, 6, 0, 6, 9, 7, 1, 2, 7, 0, 2], device='cuda:0')\n",
            "(16,) (16,) torch.Size([16, 3, 32, 32])\n"
          ],
          "name": "stdout"
        },
        {
          "output_type": "execute_result",
          "data": {
            "text/plain": [
              "(8, 8)"
            ]
          },
          "metadata": {
            "tags": []
          },
          "execution_count": 185
        }
      ]
    },
    {
      "cell_type": "code",
      "metadata": {
        "id": "bid09hUY2m1j",
        "colab_type": "code",
        "colab": {
          "base_uri": "https://localhost:8080/",
          "height": 344
        },
        "outputId": "4838302d-2ee3-4936-cf54-d51fbf6dcecd"
      },
      "source": [
        "import pandas\n",
        "import seaborn as sns\n",
        "\n",
        "classes = [i for i in dataset.classes]\n",
        "target = [i for i in dataset.classes]\n",
        "df =  pd.DataFrame(conf_m, classes[:-2], target[:-2])\n",
        "plt.title('Resnet50 Model')\n",
        "sns.heatmap(df, annot=True)"
      ],
      "execution_count": 187,
      "outputs": [
        {
          "output_type": "execute_result",
          "data": {
            "text/plain": [
              "<matplotlib.axes._subplots.AxesSubplot at 0x7fc7babbc4a8>"
            ]
          },
          "metadata": {
            "tags": []
          },
          "execution_count": 187
        },
        {
          "output_type": "display_data",
          "data": {
            "image/png": "[encoded data removed]",
            "text/plain": [
              "<Figure size 432x288 with 2 Axes>"
            ]
          },
          "metadata": {
            "tags": [],
            "needs_background": "light"
          }
        }
      ]
    },
    {
      "cell_type": "code",
      "metadata": {
        "id": "MZlhHTJr2qCi",
        "colab_type": "code",
        "colab": {}
      },
      "source": [
        ""
      ],
      "execution_count": 0,
      "outputs": []
    }
  ]
}